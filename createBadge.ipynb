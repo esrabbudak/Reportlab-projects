{
 "cells": [
  {
   "cell_type": "code",
   "execution_count": 5,
   "metadata": {},
   "outputs": [],
   "source": [
    "# Paketleri yükle\n",
    "from reportlab.pdfgen import canvas\n",
    "from reportlab.lib.units import inch, cm\n",
    "from reportlab.graphics.shapes import *\n",
    "from pandas import read_excel\n",
    "import copy\n",
    "from PyPDF2 import PdfReader, PdfWriter\n",
    "import io\n",
    "from reportlab.pdfbase import pdfmetrics\n",
    "from reportlab.pdfbase.ttfonts import TTFont\n",
    "import png\n",
    "import qrcode\n",
    "from PIL import Image\n",
    "import qrcode.image.pil"
   ]
  },
  {
   "cell_type": "code",
   "execution_count": 3,
   "metadata": {},
   "outputs": [],
   "source": [
    "# DejaVu Sans fontunun kaydedilmesi:\n",
    "font_path = r\"C:/Users/esrab/PythonProject/ReportLab/dejavu-fonts-ttf-2.37/ttf/DejaVuSans.ttf\"\n",
    "pdfmetrics.registerFont(TTFont('DejaVu', font_path))"
   ]
  },
  {
   "cell_type": "code",
   "execution_count": 16,
   "metadata": {},
   "outputs": [
    {
     "data": {
      "text/html": [
       "<div>\n",
       "<style scoped>\n",
       "    .dataframe tbody tr th:only-of-type {\n",
       "        vertical-align: middle;\n",
       "    }\n",
       "\n",
       "    .dataframe tbody tr th {\n",
       "        vertical-align: top;\n",
       "    }\n",
       "\n",
       "    .dataframe thead th {\n",
       "        text-align: right;\n",
       "    }\n",
       "</style>\n",
       "<table border=\"1\" class=\"dataframe\">\n",
       "  <thead>\n",
       "    <tr style=\"text-align: right;\">\n",
       "      <th></th>\n",
       "      <th>No</th>\n",
       "      <th>Title</th>\n",
       "      <th>Name</th>\n",
       "      <th>Affiliation</th>\n",
       "      <th>Type</th>\n",
       "    </tr>\n",
       "  </thead>\n",
       "  <tbody>\n",
       "    <tr>\n",
       "      <th>0</th>\n",
       "      <td>144</td>\n",
       "      <td>Mrs.</td>\n",
       "      <td>NAZLI CAN</td>\n",
       "      <td>İstanbul University</td>\n",
       "      <td>Participant</td>\n",
       "    </tr>\n",
       "    <tr>\n",
       "      <th>1</th>\n",
       "      <td>203</td>\n",
       "      <td>Assist. Prof. Dr.</td>\n",
       "      <td>ESRA GÜR</td>\n",
       "      <td>Istanbul University</td>\n",
       "      <td>Listener</td>\n",
       "    </tr>\n",
       "    <tr>\n",
       "      <th>2</th>\n",
       "      <td>205</td>\n",
       "      <td>Prof. Dr.</td>\n",
       "      <td>ÖZCAN AKBULUT</td>\n",
       "      <td>Sakarya University</td>\n",
       "      <td>Honorary Chair</td>\n",
       "    </tr>\n",
       "    <tr>\n",
       "      <th>3</th>\n",
       "      <td>207</td>\n",
       "      <td>Mr.</td>\n",
       "      <td>BURAK AYDIN</td>\n",
       "      <td>Düzce University</td>\n",
       "      <td>Participant</td>\n",
       "    </tr>\n",
       "  </tbody>\n",
       "</table>\n",
       "</div>"
      ],
      "text/plain": [
       "    No              Title           Name          Affiliation            Type\n",
       "0  144               Mrs.      NAZLI CAN  İstanbul University     Participant\n",
       "1  203  Assist. Prof. Dr.       ESRA GÜR  Istanbul University        Listener\n",
       "2  205         Prof. Dr.   ÖZCAN AKBULUT   Sakarya University  Honorary Chair\n",
       "3  207                Mr.    BURAK AYDIN     Düzce University     Participant"
      ]
     },
     "execution_count": 16,
     "metadata": {},
     "output_type": "execute_result"
    }
   ],
   "source": [
    "participant_list = read_excel(\"./Badge_list.xlsx\", sheet_name=\"Badge_list\")  \n",
    "participant_list"
   ]
  },
  {
   "cell_type": "code",
   "execution_count": 17,
   "metadata": {},
   "outputs": [
    {
     "name": "stdout",
     "output_type": "stream",
     "text": [
      "No: 144, Title: Mrs., Name: NAZLI CAN, University: İstanbul University, Participant Type: Participant\n",
      "No: 203, Title: Assist. Prof. Dr., Name: ESRA GÜR, University: Istanbul University, Participant Type: Listener\n",
      "No: 205, Title: Prof. Dr. , Name: ÖZCAN AKBULUT, University: Sakarya University, Participant Type: Honorary Chair\n",
      "No: 207, Title: Mr., Name: BURAK AYDIN, University: Düzce University, Participant Type: Participant\n"
     ]
    }
   ],
   "source": [
    "packet = io.BytesIO()\n",
    "cart_size = (5.001 * cm, 8.493 * cm)\n",
    "canvas_obj = canvas.Canvas(packet, pagesize=cart_size)\n",
    "\n",
    "for index, row in participant_list.iterrows():\n",
    "    no, title, name, uni, participantType = row['No'], row['Title'], row['Name'], row['Affiliation'], row['Type']\n",
    "    print(f\"No: {no}, Title: {title}, Name: {name}, University: {uni}, Participant Type: {participantType}\")\n",
    "\n",
    "\n",
    "    qr = qrcode.QRCode(version=1, box_size=1.5, border=2)\n",
    "    qr.add_data(\"{} {} {} {} {}\".format(no, title, name, uni, participantType))\n",
    "    qr.make(fit=True)\n",
    "    img = qr.make_image(image_factory=qrcode.image.pil.PilImage, fill_color='black', back_color='white')\n",
    "    img = img.resize((64, 64), Image.Resampling.LANCZOS)\n",
    "    img.save('qrcode{}.png'.format(no))\n",
    "    canvas_obj.drawImage('qrcode{}.png'.format(no), 1.24*cm, 2.45*cm)\n",
    "    canvas_obj.showPage()\n",
    "\n",
    "canvas_obj.save()\n"
   ]
  },
  {
   "cell_type": "code",
   "execution_count": 18,
   "metadata": {},
   "outputs": [
    {
     "name": "stdout",
     "output_type": "stream",
     "text": [
      "1. sertifika oluşturuldu.\n",
      "2. sertifika oluşturuldu.\n",
      "3. sertifika oluşturuldu.\n",
      "4. sertifika oluşturuldu.\n"
     ]
    }
   ],
   "source": [
    "packet.seek(0)\n",
    "canvas_pdf = PdfReader(packet)\n",
    "badge_pdf = PdfReader(open(\"Badge.pdf\", 'rb'))\n",
    "\n",
    "output = PdfWriter()\n",
    "for i in range(len(canvas_pdf.pages)):\n",
    "    page = copy.copy(badge_pdf.pages[0])\n",
    "    page.merge_page(canvas_pdf.pages[i])\n",
    "    output.add_page(page)\n",
    "    print(f\"{i + 1}. sertifika oluşturuldu.\")  \n",
    "\n",
    "\n",
    "with open(\"badge_created.pdf\", \"wb\") as outfile:  \n",
    "    output.write(outfile) "
   ]
  }
 ],
 "metadata": {
  "kernelspec": {
   "display_name": "reportlab",
   "language": "python",
   "name": "python3"
  },
  "language_info": {
   "codemirror_mode": {
    "name": "ipython",
    "version": 3
   },
   "file_extension": ".py",
   "mimetype": "text/x-python",
   "name": "python",
   "nbconvert_exporter": "python",
   "pygments_lexer": "ipython3",
   "version": "3.12.7"
  }
 },
 "nbformat": 4,
 "nbformat_minor": 2
}
