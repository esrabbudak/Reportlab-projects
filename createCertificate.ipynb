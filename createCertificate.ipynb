{
 "cells": [
  {
   "cell_type": "code",
   "execution_count": 1,
   "id": "5c692eeb-c046-4d62-95e7-a96e4ad35b02",
   "metadata": {},
   "outputs": [],
   "source": [
    "# Gerekli kütüphanelerin içe aktarılması:\n",
    "from reportlab.pdfgen import canvas  # PDF içerisine metin ve grafik çizebilmek için ReportLab kütüphanesi\n",
    "from reportlab.lib.units import cm  # Santimetre cinsinden ölçü birimini kullanabilmek için\n",
    "from reportlab.pdfbase import pdfmetrics  # Özel (TTF) fontları tanımlamak ve kullanmak için\n",
    "from reportlab.pdfbase.ttfonts import TTFont  # TTF formatındaki font dosyalarını yüklemek için\n",
    "from PyPDF2 import PdfReader, PdfWriter  # PDF dosyalarını okumak, birleştirmek ve yazmak için\n",
    "from pandas import read_excel  # Excel dosyalarını okuyabilmek için pandas kütüphanesi\n",
    "import io  # Bellek içi dosya işlemleri yapmak için (BytesIO)\n",
    "import copy  # PDF sayfalarını kopyalamak için gerekli"
   ]
  },
  {
   "cell_type": "code",
   "execution_count": 2,
   "id": "bd519959",
   "metadata": {},
   "outputs": [],
   "source": [
    "# DejaVu Sans fontunun kaydedilmesi:\n",
    "font_path = r\"C:/Users/esrab/PythonProject/ReportLab/dejavu-fonts-ttf-2.37/ttf/DejaVuSans.ttf\"\n",
    "pdfmetrics.registerFont(TTFont('DejaVu', font_path))"
   ]
  },
  {
   "cell_type": "code",
   "execution_count": 4,
   "id": "c8bfa23e-03e2-428d-8879-47dd57baa224",
   "metadata": {},
   "outputs": [
    {
     "data": {
      "text/html": [
       "<div>\n",
       "<style scoped>\n",
       "    .dataframe tbody tr th:only-of-type {\n",
       "        vertical-align: middle;\n",
       "    }\n",
       "\n",
       "    .dataframe tbody tr th {\n",
       "        vertical-align: top;\n",
       "    }\n",
       "\n",
       "    .dataframe thead th {\n",
       "        text-align: right;\n",
       "    }\n",
       "</style>\n",
       "<table border=\"1\" class=\"dataframe\">\n",
       "  <thead>\n",
       "    <tr style=\"text-align: right;\">\n",
       "      <th></th>\n",
       "      <th>Name</th>\n",
       "      <th>Participant Type</th>\n",
       "    </tr>\n",
       "  </thead>\n",
       "  <tbody>\n",
       "    <tr>\n",
       "      <th>0</th>\n",
       "      <td>Esra Budak</td>\n",
       "      <td>Participant</td>\n",
       "    </tr>\n",
       "    <tr>\n",
       "      <th>1</th>\n",
       "      <td>Zeynep Karaca</td>\n",
       "      <td>Participant</td>\n",
       "    </tr>\n",
       "    <tr>\n",
       "      <th>2</th>\n",
       "      <td>Mert caba</td>\n",
       "      <td>Participant</td>\n",
       "    </tr>\n",
       "    <tr>\n",
       "      <th>3</th>\n",
       "      <td>Elif Demir</td>\n",
       "      <td>Participant</td>\n",
       "    </tr>\n",
       "    <tr>\n",
       "      <th>4</th>\n",
       "      <td>Burak Aydın</td>\n",
       "      <td>Participant</td>\n",
       "    </tr>\n",
       "    <tr>\n",
       "      <th>5</th>\n",
       "      <td>Ayşe Şahin</td>\n",
       "      <td>Participant</td>\n",
       "    </tr>\n",
       "    <tr>\n",
       "      <th>6</th>\n",
       "      <td>Can Kutlu</td>\n",
       "      <td>Participant</td>\n",
       "    </tr>\n",
       "    <tr>\n",
       "      <th>7</th>\n",
       "      <td>Nazlı Can</td>\n",
       "      <td>Participant</td>\n",
       "    </tr>\n",
       "    <tr>\n",
       "      <th>8</th>\n",
       "      <td>Efe Arslan</td>\n",
       "      <td>Int Sci Com Member</td>\n",
       "    </tr>\n",
       "    <tr>\n",
       "      <th>9</th>\n",
       "      <td>Deniz Ergin</td>\n",
       "      <td>Int Sci Com Member</td>\n",
       "    </tr>\n",
       "  </tbody>\n",
       "</table>\n",
       "</div>"
      ],
      "text/plain": [
       "            Name    Participant Type\n",
       "0     Esra Budak         Participant\n",
       "1  Zeynep Karaca         Participant\n",
       "2      Mert caba         Participant\n",
       "3     Elif Demir         Participant\n",
       "4    Burak Aydın         Participant\n",
       "5     Ayşe Şahin         Participant\n",
       "6      Can Kutlu         Participant\n",
       "7      Nazlı Can         Participant\n",
       "8     Efe Arslan  Int Sci Com Member\n",
       "9    Deniz Ergin  Int Sci Com Member"
      ]
     },
     "execution_count": 4,
     "metadata": {},
     "output_type": "execute_result"
    }
   ],
   "source": [
    "# Excel dosyasını okuyarak katılımcı listesini elde etme:\n",
    "participant_list = read_excel(\"./certificate.xlsx\", sheet_name=\"Sayfa1\")  \n",
    "# \"certifika.xlsx\" dosyasının \"Sayfa1\" isimli çalışma sayfasındaki verileri okuyoruz.\n",
    "participant_list"
   ]
  },
  {
   "cell_type": "code",
   "execution_count": 5,
   "id": "663234fe-6737-4b4d-abad-4befe15c8978",
   "metadata": {},
   "outputs": [
    {
     "name": "stdout",
     "output_type": "stream",
     "text": [
      "Sayfa sayısı: 1\n"
     ]
    }
   ],
   "source": [
    "# Boş sertifika PDF dosyasını açma:\n",
    "with open(\"Certificate.pdf\", \"rb\") as file:  # Sertifikanın arka planı olarak kullanılacak PDF dosyasını okuma modunda açıyoruz\n",
    "    blank_certificate = PdfReader(file)  # PDF dosyasını PdfReader ile yüklüyoruz\n",
    "    num_pages = len(blank_certificate.pages)  # PDF dosyasındaki toplam sayfa sayısını alıyoruz\n",
    "    print(f\"Sayfa sayısı: {num_pages}\")  # Sayfa sayısını konsola yazdırıyoruz"
   ]
  },
  {
   "cell_type": "code",
   "execution_count": 6,
   "id": "a66dc33e",
   "metadata": {},
   "outputs": [
    {
     "name": "stdout",
     "output_type": "stream",
     "text": [
      "Name: Esra Budak, Participant Type: Participant\n",
      "Name: Zeynep Karaca, Participant Type: Participant\n",
      "Name: Mert caba, Participant Type: Participant\n",
      "Name: Elif Demir, Participant Type: Participant\n",
      "Name: Burak Aydın, Participant Type: Participant\n",
      "Name: Ayşe Şahin, Participant Type: Participant\n",
      "Name: Can Kutlu, Participant Type: Participant\n",
      "Name: Nazlı Can, Participant Type: Participant\n",
      "Name: Efe Arslan, Participant Type: Int Sci Com Member\n",
      "Name: Deniz Ergin, Participant Type: Int Sci Com Member\n"
     ]
    }
   ],
   "source": [
    "# Yeni bir PDF oluşturmak için sayfa boyutunu ayarlıyoruz:\n",
    "certifica_size = (29.704 * cm, 21.026 * cm)  \n",
    "# Sayfa boyutunu santimetre cinsinden belirtiyoruz (ReportLab'un varsayılan birimi point olduğu için cm ile çeviriyoruz)\n",
    "outfile = PdfWriter()  # Oluşturulacak PDF'yi yazmak için PdfWriter nesnesi\n",
    "\n",
    "# Bellek içi bir dosya (BytesIO) oluşturup canvas yaratma:\n",
    "packet = io.BytesIO()  # PDF içeriğini bellekte tutmak için BytesIO kullanıyoruz\n",
    "canvas_obj = canvas.Canvas(packet, pagesize=certifica_size)  \n",
    "# Yeni bir canvas oluşturuyoruz, sayfa boyutunu yukarıda ayarladığımız değer olarak belirtiyoruz\n",
    "# Excel'deki her bir katılımcı için sertifika sayfası oluşturma:\n",
    "for index, row in participant_list.iterrows():\n",
    "    # Metnin çizileceği koordinatları santimetre cinsinden belirliyoruz:\n",
    "    x = 10.01 * cm  \n",
    "    y = 10.91 * cm  \n",
    "\n",
    "    # Excel'den \"Name\" ve \"Participant Type\" sütunlarındaki verileri alıyoruz:\n",
    "    name, participant_type = row['Name'], row['Participant Type']\n",
    "    print(f\"Name: {name}, Participant Type: {participant_type}\")  # Bilgileri konsola yazdırıyoruz\n",
    "\n",
    "    # Katılımcının adını PDF üzerine yazdırma:\n",
    "    canvas_obj.setFont(\"DejaVu\", 20)  \n",
    "    # Daha önce kaydettiğimiz DejaVu fontunu 20 punto büyüklüğünde ayarlıyoruz\n",
    "    canvas_obj.drawString(x, y, name)  \n",
    "    # Belirlediğimiz (x, y) koordinatlarında katılımcının adını PDF'ye yazdırıyoruz\n",
    "\n",
    "    # Şu anki sayfayı bitirip yeni bir sayfa başlatıyoruz:\n",
    "    canvas_obj.showPage()\n",
    "\n",
    "# Tüm çizimleri kaydediyoruz:\n",
    "canvas_obj.save()  "
   ]
  },
  {
   "cell_type": "code",
   "execution_count": 8,
   "id": "d9bd2bcc",
   "metadata": {},
   "outputs": [],
   "source": [
    "# Akış sıfırlanıyor ve flush işlemi yapıyoruz\n",
    "packet.flush()\n",
    "packet.seek(0)  # Akış başa alınacak\n",
    "\n",
    "# PdfReader ile oluşturduğumuz PDF'yi okuyoruz\n",
    "canvas_pdf = PdfReader(packet)"
   ]
  },
  {
   "cell_type": "code",
   "execution_count": 9,
   "id": "9c85cec7",
   "metadata": {},
   "outputs": [
    {
     "name": "stdout",
     "output_type": "stream",
     "text": [
      "1. sertifika oluşturuldu.\n",
      "2. sertifika oluşturuldu.\n",
      "3. sertifika oluşturuldu.\n",
      "4. sertifika oluşturuldu.\n",
      "5. sertifika oluşturuldu.\n",
      "6. sertifika oluşturuldu.\n",
      "7. sertifika oluşturuldu.\n",
      "8. sertifika oluşturuldu.\n",
      "9. sertifika oluşturuldu.\n",
      "10. sertifika oluşturuldu.\n"
     ]
    }
   ],
   "source": [
    "# Bellekte oluşturduğumuz PDF'yi PdfReader ile yüklüyoruz\n",
    "blank_certificate = PdfReader(\"Certificate.pdf\")  \n",
    "# Sertifikanın arka plan PDF dosyasını yeniden yüklüyoruz (daha önce açılmıştı ama tekrar kullanıyoruz)\n",
    "output = PdfWriter()  # Son PDF'yi oluşturmak için PdfWriter nesnesi\n",
    "\n",
    "# Canvas üzerinde oluşturduğumuz sayfaları, boş (arka plan) sertifika ile birleştiriyoruz:\n",
    "for i in range(len(canvas_pdf.pages)):\n",
    "    # Arka plan PDF'sinin ilk sayfasını kopyalıyoruz (her sertifika için aynı sayfa kullanılıyor)\n",
    "    page = copy.copy(blank_certificate.pages[0])\n",
    "    # Canvas'da oluşturduğumuz ilgili sayfayı arka plan sayfası ile birleştiriyoruz:\n",
    "    page.merge_page(canvas_pdf.pages[i])\n",
    "    # Birleştirilmiş sayfayı çıktı PDF'sine ekliyoruz:\n",
    "    output.add_page(page)\n",
    "    print(f\"{i + 1}. sertifika oluşturuldu.\")  # Her bir sertifikanın oluşturulduğunu konsola yazdırıyoruz\n",
    "\n",
    "# Son olarak, oluşturulan tüm sertifikaları içeren PDF'yi dosyaya kaydediyoruz:\n",
    "with open(\"sertifikalar.pdf\", \"wb\") as outfile:  \n",
    "    # \"sertifikalar.pdf\" isimli dosyayı yazma modunda açıyoruz\n",
    "    output.write(outfile)  # PdfWriter nesnesindeki içeriği dosyaya yazıyoruz"
   ]
  }
 ],
 "metadata": {
  "kernelspec": {
   "display_name": "reportlab",
   "language": "python",
   "name": "python3"
  },
  "language_info": {
   "codemirror_mode": {
    "name": "ipython",
    "version": 3
   },
   "file_extension": ".py",
   "mimetype": "text/x-python",
   "name": "python",
   "nbconvert_exporter": "python",
   "pygments_lexer": "ipython3",
   "version": "3.12.7"
  }
 },
 "nbformat": 4,
 "nbformat_minor": 5
}
